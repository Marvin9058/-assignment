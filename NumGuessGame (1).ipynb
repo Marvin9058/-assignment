{
 "cells": [
  {
   "cell_type": "code",
   "execution_count": 1,
   "id": "d6c9afa4-b6e2-4781-b6e4-705cb2ef420d",
   "metadata": {},
   "outputs": [],
   "source": [
    "import random #random 함수를 사용하기 위해 import"
   ]
  },
  {
   "cell_type": "code",
   "execution_count": 2,
   "id": "6781ad67-27f7-45bf-bf43-5b57e9f3c805",
   "metadata": {},
   "outputs": [],
   "source": [
    "com = random.randrange(1,11) #컴퓨터에게 1이상 10 사이에서 랜덤한 숫자 선택"
   ]
  },
  {
   "cell_type": "code",
   "execution_count": 3,
   "id": "561109a8-85d6-4bae-a979-d907c7b57357",
   "metadata": {},
   "outputs": [
    {
     "name": "stdout",
     "output_type": "stream",
     "text": [
      "1과 10 사이의 숫자를 하나 정했습니다.\n",
      " 이 숫자는 무엇일까요?\n"
     ]
    }
   ],
   "source": [
    "print(\"1과 10 사이의 숫자를 하나 정했습니다.\\n 이 숫자는 무엇일까요?\" )"
   ]
  },
  {
   "cell_type": "code",
   "execution_count": 4,
   "id": "f98cfff7-5d42-4401-ab01-00dbf0a7b447",
   "metadata": {},
   "outputs": [
    {
     "name": "stdin",
     "output_type": "stream",
     "text": [
      "예상숫자: 2\n"
     ]
    },
    {
     "name": "stdout",
     "output_type": "stream",
     "text": [
      "너무 작습니다. 다시 입력하세요\n"
     ]
    },
    {
     "name": "stdin",
     "output_type": "stream",
     "text": [
      "예상숫자: 4\n"
     ]
    },
    {
     "name": "stdout",
     "output_type": "stream",
     "text": [
      "너무 작습니다. 다시 입력하세요\n"
     ]
    },
    {
     "name": "stdin",
     "output_type": "stream",
     "text": [
      "예상숫자: 5\n"
     ]
    },
    {
     "name": "stdout",
     "output_type": "stream",
     "text": [
      "너무 작습니다. 다시 입력하세요\n"
     ]
    },
    {
     "name": "stdin",
     "output_type": "stream",
     "text": [
      "예상숫자: 6\n"
     ]
    },
    {
     "name": "stdout",
     "output_type": "stream",
     "text": [
      "너무 작습니다. 다시 입력하세요\n"
     ]
    },
    {
     "name": "stdin",
     "output_type": "stream",
     "text": [
      "예상숫자: 7\n"
     ]
    },
    {
     "name": "stdout",
     "output_type": "stream",
     "text": [
      "너무 작습니다. 다시 입력하세요\n"
     ]
    },
    {
     "name": "stdin",
     "output_type": "stream",
     "text": [
      "예상숫자: 8\n"
     ]
    },
    {
     "name": "stdout",
     "output_type": "stream",
     "text": [
      "너무 작습니다. 다시 입력하세요\n"
     ]
    },
    {
     "name": "stdin",
     "output_type": "stream",
     "text": [
      "예상숫자: 9\n"
     ]
    },
    {
     "name": "stdout",
     "output_type": "stream",
     "text": [
      "정답입니다.\n"
     ]
    }
   ],
   "source": [
    "while True: # 사용자가 정답을 맞출 때까지 반복\n",
    "    try:\n",
    "        person = int(input(\"예상숫자:\")) #사용자에게 숫자받고 비교를 위해 int형으로 변환\n",
    "    except ValueError:\n",
    "        print(\"숫자를 입력해 주세요.\")\n",
    "        continue #숫자가 아닌 입력이 들어오면 다시 시도\n",
    "\n",
    "    if com < person: #컴퓨터와 사람 입력 숫자 비교\n",
    "        print(\"너무 큽니다. 다시 입력하세요\")\n",
    "\n",
    "    elif com > person:\n",
    "        print(\"너무 작습니다. 다시 입력하세요\")\n",
    "\n",
    "    else: # com == person인 경우\n",
    "        print(\"정답입니다.\")\n",
    "        break #정답을 맞추면 반복문 종료"
   ]
  },
  {
   "cell_type": "code",
   "execution_count": null,
   "id": "c4d677cc-2720-47b1-ba53-7f9f0fda819d",
   "metadata": {},
   "outputs": [],
   "source": []
  }
 ],
 "metadata": {
  "kernelspec": {
   "display_name": "Python 3 (ipykernel)",
   "language": "python",
   "name": "python3"
  },
  "language_info": {
   "codemirror_mode": {
    "name": "ipython",
    "version": 3
   },
   "file_extension": ".py",
   "mimetype": "text/x-python",
   "name": "python",
   "nbconvert_exporter": "python",
   "pygments_lexer": "ipython3",
   "version": "3.12.7"
  }
 },
 "nbformat": 4,
 "nbformat_minor": 5
}
